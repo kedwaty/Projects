{
 "cells": [
  {
   "cell_type": "code",
   "execution_count": 1,
   "metadata": {},
   "outputs": [],
   "source": [
    "import pandas as pd\n",
    "import numpy as np\n",
    "import requests\n",
    "from pandas.io.json import json_normalize\n",
    "import datetime"
   ]
  },
  {
   "cell_type": "markdown",
   "metadata": {},
   "source": [
    "## Step 1: Get Raw Json Data into Pandas Dataframe and drop unneccesary columns"
   ]
  },
  {
   "cell_type": "code",
   "execution_count": 2,
   "metadata": {},
   "outputs": [],
   "source": [
    "senate_url = \"https://senate-stock-watcher-data.s3-us-west-2.amazonaws.com/aggregate/all_transactions.json\"\n",
    "#house_url = \"https://house-stock-watcher-data.s3-us-west-2.amazonaws.com/data/all_transactions.json\"\n",
    "data = pd.read_json(senate_url)\n",
    "#house_data = pd.read_json(house_url)\n",
    "data.drop(columns = ['ptr_link','asset_description','comment','disclosure_date'], inplace = True)"
   ]
  },
  {
   "cell_type": "markdown",
   "metadata": {},
   "source": [
    "## Step 2: Save only asset_type == \"Stock\", change all \"Exchange\" to \"Purchase\", and get rid of empty tickers"
   ]
  },
  {
   "cell_type": "code",
   "execution_count": 3,
   "metadata": {},
   "outputs": [
    {
     "data": {
      "text/html": [
       "<div>\n",
       "<style scoped>\n",
       "    .dataframe tbody tr th:only-of-type {\n",
       "        vertical-align: middle;\n",
       "    }\n",
       "\n",
       "    .dataframe tbody tr th {\n",
       "        vertical-align: top;\n",
       "    }\n",
       "\n",
       "    .dataframe thead th {\n",
       "        text-align: right;\n",
       "    }\n",
       "</style>\n",
       "<table border=\"1\" class=\"dataframe\">\n",
       "  <thead>\n",
       "    <tr style=\"text-align: right;\">\n",
       "      <th></th>\n",
       "      <th>transaction_date</th>\n",
       "      <th>owner</th>\n",
       "      <th>ticker</th>\n",
       "      <th>asset_type</th>\n",
       "      <th>type</th>\n",
       "      <th>amount</th>\n",
       "      <th>senator</th>\n",
       "    </tr>\n",
       "  </thead>\n",
       "  <tbody>\n",
       "    <tr>\n",
       "      <th>1</th>\n",
       "      <td>10/26/2021</td>\n",
       "      <td>Joint</td>\n",
       "      <td>RMD</td>\n",
       "      <td>Stock</td>\n",
       "      <td>Sale (Full)</td>\n",
       "      <td>$1,001 - $15,000</td>\n",
       "      <td>Thomas H Tuberville</td>\n",
       "    </tr>\n",
       "    <tr>\n",
       "      <th>2</th>\n",
       "      <td>10/26/2021</td>\n",
       "      <td>Joint</td>\n",
       "      <td>APAM</td>\n",
       "      <td>Stock</td>\n",
       "      <td>Sale (Full)</td>\n",
       "      <td>$1,001 - $15,000</td>\n",
       "      <td>Thomas H Tuberville</td>\n",
       "    </tr>\n",
       "    <tr>\n",
       "      <th>3</th>\n",
       "      <td>10/26/2021</td>\n",
       "      <td>Joint</td>\n",
       "      <td>AON</td>\n",
       "      <td>Stock</td>\n",
       "      <td>Sale (Full)</td>\n",
       "      <td>$1,001 - $15,000</td>\n",
       "      <td>Thomas H Tuberville</td>\n",
       "    </tr>\n",
       "    <tr>\n",
       "      <th>9</th>\n",
       "      <td>10/18/2021</td>\n",
       "      <td>Joint</td>\n",
       "      <td>INTC</td>\n",
       "      <td>Stock</td>\n",
       "      <td>Purchase</td>\n",
       "      <td>$50,001 - $100,000</td>\n",
       "      <td>Thomas H Tuberville</td>\n",
       "    </tr>\n",
       "    <tr>\n",
       "      <th>10</th>\n",
       "      <td>10/18/2021</td>\n",
       "      <td>Joint</td>\n",
       "      <td>AA</td>\n",
       "      <td>Stock</td>\n",
       "      <td>Sale (Full)</td>\n",
       "      <td>$100,001 - $250,000</td>\n",
       "      <td>Thomas H Tuberville</td>\n",
       "    </tr>\n",
       "  </tbody>\n",
       "</table>\n",
       "</div>"
      ],
      "text/plain": [
       "   transaction_date  owner ticker asset_type         type  \\\n",
       "1        10/26/2021  Joint    RMD      Stock  Sale (Full)   \n",
       "2        10/26/2021  Joint   APAM      Stock  Sale (Full)   \n",
       "3        10/26/2021  Joint    AON      Stock  Sale (Full)   \n",
       "9        10/18/2021  Joint   INTC      Stock     Purchase   \n",
       "10       10/18/2021  Joint     AA      Stock  Sale (Full)   \n",
       "\n",
       "                 amount              senator  \n",
       "1      $1,001 - $15,000  Thomas H Tuberville  \n",
       "2      $1,001 - $15,000  Thomas H Tuberville  \n",
       "3      $1,001 - $15,000  Thomas H Tuberville  \n",
       "9    $50,001 - $100,000  Thomas H Tuberville  \n",
       "10  $100,001 - $250,000  Thomas H Tuberville  "
      ]
     },
     "execution_count": 3,
     "metadata": {},
     "output_type": "execute_result"
    }
   ],
   "source": [
    "# Save only Stocks\n",
    "data = data[data[\"asset_type\"] == \"Stock\"]\n",
    "# Set \"Exchange\" to \"Purchase\"\n",
    "for index,row in data.iterrows():\n",
    "    if(data.at[index,'type'] == 'Exchange'):\n",
    "        data.at[index,'type'] = 'Purchase'\n",
    "# Get rid of rows with no ticker\n",
    "no_ticker = data[data['ticker'] == '--']\n",
    "data.drop(no_ticker.index,inplace=True)\n",
    "\n",
    "data.head()"
   ]
  },
  {
   "cell_type": "code",
   "execution_count": 6,
   "metadata": {},
   "outputs": [
    {
     "data": {
      "text/plain": [
       "(5805, 6)"
      ]
     },
     "execution_count": 6,
     "metadata": {},
     "output_type": "execute_result"
    }
   ],
   "source": [
    "data.shape"
   ]
  },
  {
   "cell_type": "markdown",
   "metadata": {},
   "source": [
    "## Step 3: Order Data by Senator,Ticker,Owner and sort those by time ascending"
   ]
  },
  {
   "cell_type": "code",
   "execution_count": 4,
   "metadata": {},
   "outputs": [],
   "source": [
    "# Make data a tiered dataframe\n",
    "data.set_index([\"senator\",\"ticker\",\"owner\"],inplace=True)\n",
    "# Actually make transaction dates time objects\n",
    "data['transaction_date'] = pd.to_datetime(data['transaction_date'])\n",
    "# Sort dataframe\n",
    "data.sort_values(by = [\"senator\",\"ticker\",\"owner\",\"transaction_date\"],ascending=[True,True,True,True],inplace=True)\n"
   ]
  },
  {
   "cell_type": "code",
   "execution_count": 7,
   "metadata": {},
   "outputs": [
    {
     "data": {
      "text/html": [
       "<div>\n",
       "<style scoped>\n",
       "    .dataframe tbody tr th:only-of-type {\n",
       "        vertical-align: middle;\n",
       "    }\n",
       "\n",
       "    .dataframe tbody tr th {\n",
       "        vertical-align: top;\n",
       "    }\n",
       "\n",
       "    .dataframe thead th {\n",
       "        text-align: right;\n",
       "    }\n",
       "</style>\n",
       "<table border=\"1\" class=\"dataframe\">\n",
       "  <thead>\n",
       "    <tr style=\"text-align: right;\">\n",
       "      <th></th>\n",
       "      <th></th>\n",
       "      <th></th>\n",
       "      <th>transaction_date</th>\n",
       "      <th>asset_type</th>\n",
       "      <th>type</th>\n",
       "      <th>amount</th>\n",
       "      <th>basis</th>\n",
       "      <th>SPY basis</th>\n",
       "    </tr>\n",
       "    <tr>\n",
       "      <th>senator</th>\n",
       "      <th>ticker</th>\n",
       "      <th>owner</th>\n",
       "      <th></th>\n",
       "      <th></th>\n",
       "      <th></th>\n",
       "      <th></th>\n",
       "      <th></th>\n",
       "      <th></th>\n",
       "    </tr>\n",
       "  </thead>\n",
       "  <tbody>\n",
       "    <tr>\n",
       "      <th rowspan=\"5\" valign=\"top\">A. Mitchell Mcconnell, Jr.</th>\n",
       "      <th>IR</th>\n",
       "      <th>Spouse</th>\n",
       "      <td>2019-06-03</td>\n",
       "      <td>Stock</td>\n",
       "      <td>Sale (Full)</td>\n",
       "      <td>$250,001 - $500,000</td>\n",
       "      <td>0</td>\n",
       "      <td>0</td>\n",
       "    </tr>\n",
       "    <tr>\n",
       "      <th>VMC</th>\n",
       "      <th>Spouse</th>\n",
       "      <td>2019-06-03</td>\n",
       "      <td>Stock</td>\n",
       "      <td>Sale (Full)</td>\n",
       "      <td>$250,001 - $500,000</td>\n",
       "      <td>0</td>\n",
       "      <td>0</td>\n",
       "    </tr>\n",
       "    <tr>\n",
       "      <th rowspan=\"3\" valign=\"top\">WFC</th>\n",
       "      <th>Spouse</th>\n",
       "      <td>2017-09-07</td>\n",
       "      <td>Stock</td>\n",
       "      <td>Purchase</td>\n",
       "      <td>$1,001 - $15,000</td>\n",
       "      <td>0</td>\n",
       "      <td>0</td>\n",
       "    </tr>\n",
       "    <tr>\n",
       "      <th>Spouse</th>\n",
       "      <td>2017-12-05</td>\n",
       "      <td>Stock</td>\n",
       "      <td>Purchase</td>\n",
       "      <td>$1,001 - $15,000</td>\n",
       "      <td>0</td>\n",
       "      <td>0</td>\n",
       "    </tr>\n",
       "    <tr>\n",
       "      <th>Spouse</th>\n",
       "      <td>2018-03-05</td>\n",
       "      <td>Stock</td>\n",
       "      <td>Purchase</td>\n",
       "      <td>$1,001 - $15,000</td>\n",
       "      <td>0</td>\n",
       "      <td>0</td>\n",
       "    </tr>\n",
       "  </tbody>\n",
       "</table>\n",
       "</div>"
      ],
      "text/plain": [
       "                                         transaction_date asset_type  \\\n",
       "senator                    ticker owner                                \n",
       "A. Mitchell Mcconnell, Jr. IR     Spouse       2019-06-03      Stock   \n",
       "                           VMC    Spouse       2019-06-03      Stock   \n",
       "                           WFC    Spouse       2017-09-07      Stock   \n",
       "                                  Spouse       2017-12-05      Stock   \n",
       "                                  Spouse       2018-03-05      Stock   \n",
       "\n",
       "                                                 type               amount  \\\n",
       "senator                    ticker owner                                      \n",
       "A. Mitchell Mcconnell, Jr. IR     Spouse  Sale (Full)  $250,001 - $500,000   \n",
       "                           VMC    Spouse  Sale (Full)  $250,001 - $500,000   \n",
       "                           WFC    Spouse     Purchase     $1,001 - $15,000   \n",
       "                                  Spouse     Purchase     $1,001 - $15,000   \n",
       "                                  Spouse     Purchase     $1,001 - $15,000   \n",
       "\n",
       "                                          basis  SPY basis  \n",
       "senator                    ticker owner                     \n",
       "A. Mitchell Mcconnell, Jr. IR     Spouse      0          0  \n",
       "                           VMC    Spouse      0          0  \n",
       "                           WFC    Spouse      0          0  \n",
       "                                  Spouse      0          0  \n",
       "                                  Spouse      0          0  "
      ]
     },
     "execution_count": 7,
     "metadata": {},
     "output_type": "execute_result"
    }
   ],
   "source": [
    "data.head()"
   ]
  },
  {
   "cell_type": "markdown",
   "metadata": {},
   "source": [
    "## Step 4: Go through each row and use Ashley's Method to save stock and SPY Basis"
   ]
  },
  {
   "cell_type": "code",
   "execution_count": 5,
   "metadata": {},
   "outputs": [],
   "source": [
    "data['basis'] = 0\n",
    "data['SPY basis'] = 0"
   ]
  },
  {
   "cell_type": "code",
   "execution_count": null,
   "metadata": {},
   "outputs": [],
   "source": [
    "start = -1\n",
    "end = 8000\n",
    "count = -1\n",
    "for index,row in data.iterrows():\n",
    "    #break;# We are done with this cell\n",
    "    if(index < start):\n",
    "        continue\n",
    "    \n",
    "    if(data.at[index,'basis'] != 0):\n",
    "        continue\n",
    "    ticker = row['ticker']#Ticker\n",
    "\n",
    "    t_info = row['transaction_date'].split(\"/\") # {09,30,2021}\n",
    "    t_year = int(t_info[2])\n",
    "    t_month = int(t_info[0])\n",
    "    t_day = int(t_info[1])\n",
    "\n",
    "    start_date = datetime.datetime(t_year,t_month,t_day)\n",
    "    end_date = start_date + datetime.timedelta(days=7)#next weeks of start_dates\n",
    "    \n",
    "\n",
    "    #cast vars\n",
    "    start_date = str(int(start_date.timestamp()))\n",
    "    end_date = str(int(end_date.timestamp()))\n",
    "\n",
    "    interval= '1d'\n",
    "    #'1wk'\n",
    "    #'1mo'\n",
    "    #'1yr'\n",
    "    event ='history'\n",
    "\n",
    "    url = 'https://query1.finance.yahoo.com/v7/finance/download/'      + ticker + '?period1=' + start_date + '&period2=' + end_date + '&interval='      + interval + '&events=' + event\n",
    "    spy_url = 'https://query1.finance.yahoo.com/v7/finance/download/'      + \"SPY\" + '?period1=' + start_date + '&period2=' + end_date + '&interval='      + interval + '&events=' + event\n",
    "    try:\n",
    "        b_data = pd.read_csv(url)\n",
    "        spy_data = pd.read_csv(spy_url)\n",
    "    except:\n",
    "        data[index,'basis'] = -1 # lets us know website didn't work, as opposed to not reached in the search\n",
    "        continue\n",
    "\n",
    "    basis = (b_data[\"Open\"][0] + b_data[\"Close\"][0] + b_data[\"High\"][0] + b_data[\"Low\"][0]) / 4\n",
    "    spy_basis = (spy_data[\"Open\"][0] + spy_data[\"Close\"][0] + spy_data[\"High\"][0] + spy_data[\"Low\"][0]) / 4\n",
    "    \n",
    "    data.at[index,'basis'] = basis\n",
    "    data.at[index,'SPY basis'] = spy_basis"
   ]
  },
  {
   "cell_type": "markdown",
   "metadata": {},
   "source": [
    "### That was a big step, so save data as csv"
   ]
  },
  {
   "cell_type": "code",
   "execution_count": null,
   "metadata": {},
   "outputs": [],
   "source": [
    "data.to_csv(\"Final_Process_data1\")"
   ]
  },
  {
   "cell_type": "markdown",
   "metadata": {},
   "source": [
    "## Step 5: Make 2D list of dataframes holding each senators data"
   ]
  },
  {
   "cell_type": "code",
   "execution_count": 10,
   "metadata": {},
   "outputs": [
    {
     "data": {
      "text/plain": [
       "1944"
      ]
     },
     "execution_count": 10,
     "metadata": {},
     "output_type": "execute_result"
    }
   ],
   "source": [
    "all_things=[]\n",
    "last_ind = [] # neccesary since 2 rows for a sell and buy will have identical indecies, don't want to save a dataframe for both of them!\n",
    "# ('Senator name',owner,ticker)\n",
    "for index,row in data.iterrows():\n",
    "    if(index == last_ind):\n",
    "        continue\n",
    "    last_ind = index\n",
    "    temp = data[data.index == index]\n",
    "    #if(temp.shape[0] > 1):\n",
    "    all_things.append(temp)\n",
    "len(all_things)\n"
   ]
  },
  {
   "cell_type": "code",
   "execution_count": 14,
   "metadata": {},
   "outputs": [
    {
     "data": {
      "text/html": [
       "<div>\n",
       "<style scoped>\n",
       "    .dataframe tbody tr th:only-of-type {\n",
       "        vertical-align: middle;\n",
       "    }\n",
       "\n",
       "    .dataframe tbody tr th {\n",
       "        vertical-align: top;\n",
       "    }\n",
       "\n",
       "    .dataframe thead th {\n",
       "        text-align: right;\n",
       "    }\n",
       "</style>\n",
       "<table border=\"1\" class=\"dataframe\">\n",
       "  <thead>\n",
       "    <tr style=\"text-align: right;\">\n",
       "      <th></th>\n",
       "      <th></th>\n",
       "      <th></th>\n",
       "      <th>transaction_date</th>\n",
       "      <th>asset_type</th>\n",
       "      <th>type</th>\n",
       "      <th>amount</th>\n",
       "      <th>basis</th>\n",
       "      <th>SPY basis</th>\n",
       "    </tr>\n",
       "    <tr>\n",
       "      <th>senator</th>\n",
       "      <th>ticker</th>\n",
       "      <th>owner</th>\n",
       "      <th></th>\n",
       "      <th></th>\n",
       "      <th></th>\n",
       "      <th></th>\n",
       "      <th></th>\n",
       "      <th></th>\n",
       "    </tr>\n",
       "  </thead>\n",
       "  <tbody>\n",
       "    <tr>\n",
       "      <th rowspan=\"2\" valign=\"top\">Angus S King, Jr.</th>\n",
       "      <th rowspan=\"2\" valign=\"top\">COP</th>\n",
       "      <th>Spouse</th>\n",
       "      <td>2017-11-28</td>\n",
       "      <td>Stock</td>\n",
       "      <td>Purchase</td>\n",
       "      <td>$1,001 - $15,000</td>\n",
       "      <td>0</td>\n",
       "      <td>0</td>\n",
       "    </tr>\n",
       "    <tr>\n",
       "      <th>Spouse</th>\n",
       "      <td>2020-08-18</td>\n",
       "      <td>Stock</td>\n",
       "      <td>Sale (Full)</td>\n",
       "      <td>$1,001 - $15,000</td>\n",
       "      <td>0</td>\n",
       "      <td>0</td>\n",
       "    </tr>\n",
       "  </tbody>\n",
       "</table>\n",
       "</div>"
      ],
      "text/plain": [
       "                                transaction_date asset_type         type  \\\n",
       "senator           ticker owner                                             \n",
       "Angus S King, Jr. COP    Spouse       2017-11-28      Stock     Purchase   \n",
       "                         Spouse       2020-08-18      Stock  Sale (Full)   \n",
       "\n",
       "                                           amount  basis  SPY basis  \n",
       "senator           ticker owner                                       \n",
       "Angus S King, Jr. COP    Spouse  $1,001 - $15,000      0          0  \n",
       "                         Spouse  $1,001 - $15,000      0          0  "
      ]
     },
     "execution_count": 14,
     "metadata": {},
     "output_type": "execute_result"
    }
   ],
   "source": [
    "all_things[8].head()"
   ]
  },
  {
   "cell_type": "markdown",
   "metadata": {},
   "source": [
    "## Step 6: Combine the sales and purchases and append to new dataframe"
   ]
  },
  {
   "cell_type": "markdown",
   "metadata": {},
   "source": [
    "#### Want to Create Dataframe with these columns<br>\n",
    "[\"senator\",\"ticker\",\"owner\",\"is_closed\",\"p_date\",\"p_basis\",\"p_amount\",\"p_SPY\",\"s_date\",\"s_basis\",\"s_amount\",\"s_SPY\",\"percent_gain\",\"SPY percent_gain\"]"
   ]
  },
  {
   "cell_type": "code",
   "execution_count": null,
   "metadata": {},
   "outputs": [],
   "source": [
    "for sen_data in all_things:\n",
    "    # sen data is a dataframe, in date order with most recent date last\n",
    "    all_purch = []\n",
    "    all_sells = []\n",
    "    purchase_ind = pd.Series({'A':[]})# We will store the rows of the data frame in here\n",
    "    sell_ind = pd.Series({'A':[]})# And in here as well\n",
    "\n",
    "    position_open = False # will be True when we see our first Purchase\n",
    "    for index,row in sen_data.iterrows():\n",
    "        # If this row is a purchase, app\n",
    "        continue"
   ]
  },
  {
   "cell_type": "markdown",
   "metadata": {},
   "source": [
    "### Step 7: From the big dataframe, run Ashley's method again for purchases with no sell(Open positions) to give a peak at the current holding"
   ]
  },
  {
   "cell_type": "markdown",
   "metadata": {},
   "source": []
  }
 ],
 "metadata": {
  "interpreter": {
   "hash": "d5eeacb41a539e07790d58cec472248f9f1777eb5eaea5d73451b5a944b93378"
  },
  "kernelspec": {
   "display_name": "Python 3.8.8 64-bit ('base': conda)",
   "language": "python",
   "name": "python3"
  },
  "language_info": {
   "codemirror_mode": {
    "name": "ipython",
    "version": 3
   },
   "file_extension": ".py",
   "mimetype": "text/x-python",
   "name": "python",
   "nbconvert_exporter": "python",
   "pygments_lexer": "ipython3",
   "version": "3.8.8"
  },
  "orig_nbformat": 4
 },
 "nbformat": 4,
 "nbformat_minor": 2
}
